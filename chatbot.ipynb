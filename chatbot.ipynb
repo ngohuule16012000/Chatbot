{
  "cells": [
    {
      "cell_type": "code",
      "execution_count": null,
      "metadata": {
        "colab": {
          "base_uri": "https://localhost:8080/"
        },
        "id": "1yGDq5Mfk8m-",
        "outputId": "69575e44-1311-444c-8170-959fa2a57a39"
      },
      "outputs": [],
      "source": [
        "! pip install transformers sentencepiece datasets"
      ]
    },
    {
      "cell_type": "code",
      "execution_count": 5,
      "metadata": {
        "colab": {
          "base_uri": "https://localhost:8080/"
        },
        "id": "ckyS_hMEmD6u",
        "outputId": "fc3bd8ad-f95f-4809-91b3-9e1a342e8cd1"
      },
      "outputs": [
        {
          "name": "stdout",
          "output_type": "stream",
          "text": [
            "--2023-05-06 09:38:28--  https://s3.amazonaws.com/datasets.huggingface.co/personachat/personachat_self_original.json\n",
            "Resolving s3.amazonaws.com (s3.amazonaws.com)... 52.217.231.96, 52.216.10.117, 52.216.94.157, ...\n",
            "Connecting to s3.amazonaws.com (s3.amazonaws.com)|52.217.231.96|:443... connected.\n",
            "HTTP request sent, awaiting response... 200 OK\n",
            "Length: 209850483 (200M) [application/json]\n",
            "Saving to: ‘personachat_self_original.json’\n",
            "\n",
            "personachat_self_or 100%[===================>] 200.13M  5.40MB/s    in 22s     \n",
            "\n",
            "2023-05-06 09:38:51 (9.01 MB/s) - ‘personachat_self_original.json’ saved [209850483/209850483]\n",
            "\n"
          ]
        }
      ],
      "source": [
        "!wget https://s3.amazonaws.com/datasets.huggingface.co/personachat/personachat_self_original.json"
      ]
    },
    {
      "cell_type": "code",
      "execution_count": 8,
      "metadata": {
        "id": "8aMWCBt3mIjf"
      },
      "outputs": [],
      "source": [
        "import json\n",
        "\n",
        "# Load Persona-Chat dataset from JSON file\n",
        "with open('personachat_self_original.json', 'r') as f:\n",
        "    dataset = json.load(f)\n",
        "\n",
        "# Convert dataset to text file\n",
        "with open('persona-chat.txt', 'w') as f:\n",
        "    for conversation in dataset['train']:\n",
        "        for message in conversation['utterances']:\n",
        "            for m in message['candidates']:\n",
        "              text = m.strip().replace('\\n', ' ')\n",
        "              if text:\n",
        "                f.write(text + '\\n')"
      ]
    },
    {
      "cell_type": "code",
      "execution_count": 1,
      "metadata": {
        "id": "sVZOaQ6fE0CQ"
      },
      "outputs": [],
      "source": [
        "with open('persona-chat.txt', 'r') as f:\n",
        "  lines = f.readlines()\n",
        "with open('persona-chat-10k.txt', 'w') as f:\n",
        "  for i in range(10000):\n",
        "    f.write(lines[i])"
      ]
    },
    {
      "cell_type": "code",
      "execution_count": 10,
      "metadata": {
        "colab": {
          "base_uri": "https://localhost:8080/"
        },
        "id": "qVqFAfYhA1qA",
        "outputId": "41bee6a3-581a-43a9-a61a-cf7c12f1ce8a"
      },
      "outputs": [
        {
          "name": "stdout",
          "output_type": "stream",
          "text": [
            "size:  10000\n",
            "my mom was single with 3 boys , so we never left the projects .\n",
            "\n",
            "i try to wear all black every day . it makes me feel comfortable .\n",
            "\n",
            "well nursing stresses you out so i wish luck with sister\n",
            "\n",
            "yeah just want to pick up nba nfl getting old\n",
            "\n",
            "i really like celine dion . what about you ?\n",
            "\n",
            "no . i live near farms .\n",
            "\n",
            "i wish i had a daughter , i'm a boy mom . they're beautiful boys though still lucky\n",
            "\n",
            "yeah when i get bored i play gone with the wind my favorite movie .\n",
            "\n",
            "hi how are you ? i'm eating dinner with my hubby and 2 kids .\n",
            "\n",
            "were you married to your high school sweetheart ? i was .\n",
            "\n"
          ]
        }
      ],
      "source": [
        "with open('persona-chat-10k.txt', 'r') as f:\n",
        "  lines = f.readlines()\n",
        "\n",
        "print(\"size: \", len(lines))\n",
        "for i in lines[:10]:\n",
        "  print(i)"
      ]
    },
    {
      "cell_type": "code",
      "execution_count": 8,
      "metadata": {
        "id": "-FFlk3eA-nIf"
      },
      "outputs": [],
      "source": [
        "import transformers\n",
        "from tokenizers import ByteLevelBPETokenizer\n",
        "from transformers import GPT2Config, GPT2LMHeadModel, GPT2Tokenizer, DataCollatorForLanguageModeling, Trainer, TrainingArguments\n",
        "import datasets\n",
        "from datasets import load_dataset"
      ]
    },
    {
      "cell_type": "code",
      "execution_count": 12,
      "metadata": {
        "id": "7ZpTAKXY-nIh"
      },
      "outputs": [],
      "source": [
        "paths = ['persona-chat-10k.txt']"
      ]
    },
    {
      "cell_type": "code",
      "execution_count": 13,
      "metadata": {
        "id": "HaRIOLlO-nIh"
      },
      "outputs": [],
      "source": [
        "import os.path\n",
        "from os import path\n",
        "\n",
        "if path.exists('/content/myTokenizer') == False:\n",
        "  os.mkdir('/content/myTokenizer')\n",
        "  tokenizer = ByteLevelBPETokenizer()\n",
        "  tokenizer.train(files = paths, min_frequency = 2)\n",
        "  tokenizer.save_model(\"myTokenizer\")"
      ]
    },
    {
      "cell_type": "code",
      "execution_count": 14,
      "metadata": {
        "colab": {
          "base_uri": "https://localhost:8080/"
        },
        "id": "7wT8VK1u-nIi",
        "outputId": "f256fc33-ae17-4a23-f775-e614ff1cef46"
      },
      "outputs": [
        {
          "data": {
            "text/plain": [
              "1"
            ]
          },
          "execution_count": 14,
          "metadata": {},
          "output_type": "execute_result"
        }
      ],
      "source": [
        "tokenizer = GPT2Tokenizer.from_pretrained(\"myTokenizer\")\n",
        "tokenizer.pad_token = tokenizer.eos_token\n",
        "tokenizer.add_special_tokens({'pad_token': '[PAD]'})"
      ]
    },
    {
      "cell_type": "code",
      "execution_count": 15,
      "metadata": {
        "id": "usoCUAy5-nIj"
      },
      "outputs": [],
      "source": [
        "inp = \"Hello world!\"\n",
        "t = tokenizer.encode(inp)"
      ]
    },
    {
      "cell_type": "code",
      "execution_count": 16,
      "metadata": {
        "colab": {
          "base_uri": "https://localhost:8080/"
        },
        "id": "wcP-AACv-nIj",
        "outputId": "9b114c08-372d-47c0-8ab3-98d178d51305"
      },
      "outputs": [
        {
          "name": "stdout",
          "output_type": "stream",
          "text": [
            "[39, 461, 78, 1064, 0]\n",
            "Hello world!\n"
          ]
        }
      ],
      "source": [
        "print(t)\n",
        "print(tokenizer.decode(t))"
      ]
    },
    {
      "cell_type": "code",
      "execution_count": 17,
      "metadata": {
        "colab": {
          "base_uri": "https://localhost:8080/",
          "height": 168,
          "referenced_widgets": [
            "5c6c00dd16f24a988652ddf41ae8a78c",
            "9545ced8e1764658a2e5f9468ae01a21",
            "5272115e696e4b778e1f9b89fd0c77fe",
            "52d03806460749ac8e284b5bb35f408a",
            "c0a613685cc044b6a19f22ee3e086fc5",
            "442015b44cf641cd9766ef8b98261e07",
            "3bf305f2a3114f028b26068f2cee1eec",
            "31449ea751aa43dbaeb7d4063371e2b0",
            "2c63e333557a4bf9b9cebb408d969692",
            "09aea4029366489e804c46ccae2ee831",
            "243cf16921f1406a916988126764f3e7",
            "0676988ee0e646cc86a0f54b71305b9e",
            "f6c198cb28624f9aba2d039eefd358fb",
            "f15b6040c5634294bfd084761b6acbf0",
            "d991eb5fd95a4469aa3960503f970c82",
            "33af59e11c384f2eab9be819e1d4e669",
            "8c7c70a8538a40b6b5cb2a77b2815e4a",
            "73591e0b36044a688769997a659650bd",
            "9211f30ae4ad4813bd36dbe35f1ff229",
            "e7084db5775b4e3186f7b64e8f72d798",
            "371f2d1ef300432eb7b912651a489ed7",
            "7c2ebe662e3f43bcad6b9bafbb483b39",
            "3b813d6448f74a1faefc339d96a8ab6c",
            "626f492a3bf74e2fb07e45dcd3132d71",
            "a4de4955cc4a4e03a67437fa84067b49",
            "96893ec5232a4d3793a0c08c08c282a2",
            "620010ffb08b4cafb9cfc07c2f037988",
            "122989957a4d441ebbf6081a5d9bc23f",
            "2025401174094317a8e8a922d96957c1",
            "45957af647454236b4cd97418aee1bd3",
            "a49a2546a07d456b9515aa2e47b75a5d",
            "71137d16b4714157bad59abf039f5f4e",
            "90bfd3857899415791fe721c99682eb1",
            "e520603c5d874dedb58e1534e6866991",
            "41c45bc12d644d8ea358455498d85ea3",
            "5fc94d169b1641b4b208ee9a12c59af1",
            "fe19f90692b346ca9512453d42e8a44e",
            "7307265543014fd8b143814432f12c16",
            "ece49c9d538d4e74b45ff41b27fd70bc",
            "7853eb25d5da45e6b2207c2f9bc20a28",
            "6454d1b7820e4c70ba7f3002e8ad94b5",
            "c1185ee542d34951bf3df7ac17313591",
            "f7e88a9ffad34087bdb4bd7f8eb04006",
            "89d47e294c1f43e8b52035d8be41d3b5"
          ]
        },
        "id": "AyVnI4NC-nIj",
        "outputId": "cc06b4e5-2075-485c-bba8-83fced6e6c57"
      },
      "outputs": [
        {
          "name": "stdout",
          "output_type": "stream",
          "text": [
            "Downloading and preparing dataset text/default to /root/.cache/huggingface/datasets/text/default-9b79723d124556f1/0.0.0/cb1e9bd71a82ad27976be3b12b407850fe2837d80c22c5e03a28949843a8ace2...\n"
          ]
        },
        {
          "data": {
            "application/vnd.jupyter.widget-view+json": {
              "model_id": "5c6c00dd16f24a988652ddf41ae8a78c",
              "version_major": 2,
              "version_minor": 0
            },
            "text/plain": [
              "Downloading data files:   0%|          | 0/1 [00:00<?, ?it/s]"
            ]
          },
          "metadata": {},
          "output_type": "display_data"
        },
        {
          "data": {
            "application/vnd.jupyter.widget-view+json": {
              "model_id": "0676988ee0e646cc86a0f54b71305b9e",
              "version_major": 2,
              "version_minor": 0
            },
            "text/plain": [
              "Extracting data files:   0%|          | 0/1 [00:00<?, ?it/s]"
            ]
          },
          "metadata": {},
          "output_type": "display_data"
        },
        {
          "data": {
            "application/vnd.jupyter.widget-view+json": {
              "model_id": "3b813d6448f74a1faefc339d96a8ab6c",
              "version_major": 2,
              "version_minor": 0
            },
            "text/plain": [
              "Generating train split: 0 examples [00:00, ? examples/s]"
            ]
          },
          "metadata": {},
          "output_type": "display_data"
        },
        {
          "name": "stdout",
          "output_type": "stream",
          "text": [
            "Dataset text downloaded and prepared to /root/.cache/huggingface/datasets/text/default-9b79723d124556f1/0.0.0/cb1e9bd71a82ad27976be3b12b407850fe2837d80c22c5e03a28949843a8ace2. Subsequent calls will reuse this data.\n"
          ]
        },
        {
          "data": {
            "application/vnd.jupyter.widget-view+json": {
              "model_id": "e520603c5d874dedb58e1534e6866991",
              "version_major": 2,
              "version_minor": 0
            },
            "text/plain": [
              "  0%|          | 0/1 [00:00<?, ?it/s]"
            ]
          },
          "metadata": {},
          "output_type": "display_data"
        }
      ],
      "source": [
        "config = GPT2Config(\n",
        "    vocab_size=tokenizer.vocab_size,\n",
        "    bos_token=tokenizer.bos_token_id,\n",
        "    eos_token=tokenizer.eos_token_id\n",
        ")\n",
        "\n",
        "model = GPT2LMHeadModel(config)\n",
        "dataset = load_dataset(\"text\", data_files=paths)\n",
        "def encode(lines):\n",
        "    return tokenizer(lines['text'], add_special_tokens = True, padding=True, truncation = True, max_length = 512)\n",
        "dataset.set_transform(encode)\n",
        "dataset = dataset['train']"
      ]
    },
    {
      "cell_type": "code",
      "execution_count": 18,
      "metadata": {
        "id": "vwsQKAV5-nIk"
      },
      "outputs": [],
      "source": [
        "data_collator = DataCollatorForLanguageModeling(tokenizer=tokenizer, mlm=False, mlm_probability=0.15)"
      ]
    },
    {
      "cell_type": "code",
      "execution_count": 19,
      "metadata": {
        "colab": {
          "base_uri": "https://localhost:8080/",
          "height": 1000
        },
        "id": "KNAPLOGY-nIl",
        "outputId": "9db2309c-03ef-4e35-bc7a-0f3faf1272c9"
      },
      "outputs": [
        {
          "name": "stderr",
          "output_type": "stream",
          "text": [
            "/usr/local/lib/python3.10/dist-packages/transformers/optimization.py:391: FutureWarning: This implementation of AdamW is deprecated and will be removed in a future version. Use the PyTorch implementation torch.optim.AdamW instead, or set `no_deprecation_warning=True` to disable this warning\n",
            "  warnings.warn(\n"
          ]
        },
        {
          "data": {
            "text/html": [
              "\n",
              "    <div>\n",
              "      \n",
              "      <progress value='30000' max='30000' style='width:300px; height:20px; vertical-align: middle;'></progress>\n",
              "      [30000/30000 7:17:21, Epoch 3/3]\n",
              "    </div>\n",
              "    <table border=\"1\" class=\"dataframe\">\n",
              "  <thead>\n",
              " <tr style=\"text-align: left;\">\n",
              "      <th>Step</th>\n",
              "      <th>Training Loss</th>\n",
              "    </tr>\n",
              "  </thead>\n",
              "  <tbody>\n",
              "    <tr>\n",
              "      <td>500</td>\n",
              "      <td>6.329900</td>\n",
              "    </tr>\n",
              "    <tr>\n",
              "      <td>1000</td>\n",
              "      <td>5.819300</td>\n",
              "    </tr>\n",
              "    <tr>\n",
              "      <td>1500</td>\n",
              "      <td>5.575900</td>\n",
              "    </tr>\n",
              "    <tr>\n",
              "      <td>2000</td>\n",
              "      <td>5.409100</td>\n",
              "    </tr>\n",
              "    <tr>\n",
              "      <td>2500</td>\n",
              "      <td>5.230000</td>\n",
              "    </tr>\n",
              "    <tr>\n",
              "      <td>3000</td>\n",
              "      <td>5.294600</td>\n",
              "    </tr>\n",
              "    <tr>\n",
              "      <td>3500</td>\n",
              "      <td>5.196800</td>\n",
              "    </tr>\n",
              "    <tr>\n",
              "      <td>4000</td>\n",
              "      <td>5.122400</td>\n",
              "    </tr>\n",
              "    <tr>\n",
              "      <td>4500</td>\n",
              "      <td>5.170800</td>\n",
              "    </tr>\n",
              "    <tr>\n",
              "      <td>5000</td>\n",
              "      <td>5.128500</td>\n",
              "    </tr>\n",
              "    <tr>\n",
              "      <td>5500</td>\n",
              "      <td>5.009900</td>\n",
              "    </tr>\n",
              "    <tr>\n",
              "      <td>6000</td>\n",
              "      <td>5.092300</td>\n",
              "    </tr>\n",
              "    <tr>\n",
              "      <td>6500</td>\n",
              "      <td>5.015600</td>\n",
              "    </tr>\n",
              "    <tr>\n",
              "      <td>7000</td>\n",
              "      <td>4.929200</td>\n",
              "    </tr>\n",
              "    <tr>\n",
              "      <td>7500</td>\n",
              "      <td>4.914900</td>\n",
              "    </tr>\n",
              "    <tr>\n",
              "      <td>8000</td>\n",
              "      <td>5.003100</td>\n",
              "    </tr>\n",
              "    <tr>\n",
              "      <td>8500</td>\n",
              "      <td>4.850300</td>\n",
              "    </tr>\n",
              "    <tr>\n",
              "      <td>9000</td>\n",
              "      <td>4.934800</td>\n",
              "    </tr>\n",
              "    <tr>\n",
              "      <td>9500</td>\n",
              "      <td>4.819200</td>\n",
              "    </tr>\n",
              "    <tr>\n",
              "      <td>10000</td>\n",
              "      <td>4.790700</td>\n",
              "    </tr>\n",
              "    <tr>\n",
              "      <td>10500</td>\n",
              "      <td>4.634500</td>\n",
              "    </tr>\n",
              "    <tr>\n",
              "      <td>11000</td>\n",
              "      <td>4.580300</td>\n",
              "    </tr>\n",
              "    <tr>\n",
              "      <td>11500</td>\n",
              "      <td>4.539400</td>\n",
              "    </tr>\n",
              "    <tr>\n",
              "      <td>12000</td>\n",
              "      <td>4.660500</td>\n",
              "    </tr>\n",
              "    <tr>\n",
              "      <td>12500</td>\n",
              "      <td>4.529000</td>\n",
              "    </tr>\n",
              "    <tr>\n",
              "      <td>13000</td>\n",
              "      <td>4.534600</td>\n",
              "    </tr>\n",
              "    <tr>\n",
              "      <td>13500</td>\n",
              "      <td>4.557100</td>\n",
              "    </tr>\n",
              "    <tr>\n",
              "      <td>14000</td>\n",
              "      <td>4.580700</td>\n",
              "    </tr>\n",
              "    <tr>\n",
              "      <td>14500</td>\n",
              "      <td>4.531900</td>\n",
              "    </tr>\n",
              "    <tr>\n",
              "      <td>15000</td>\n",
              "      <td>4.598000</td>\n",
              "    </tr>\n",
              "    <tr>\n",
              "      <td>15500</td>\n",
              "      <td>4.451000</td>\n",
              "    </tr>\n",
              "    <tr>\n",
              "      <td>16000</td>\n",
              "      <td>4.532300</td>\n",
              "    </tr>\n",
              "    <tr>\n",
              "      <td>16500</td>\n",
              "      <td>4.355200</td>\n",
              "    </tr>\n",
              "    <tr>\n",
              "      <td>17000</td>\n",
              "      <td>4.426700</td>\n",
              "    </tr>\n",
              "    <tr>\n",
              "      <td>17500</td>\n",
              "      <td>4.427800</td>\n",
              "    </tr>\n",
              "    <tr>\n",
              "      <td>18000</td>\n",
              "      <td>4.482500</td>\n",
              "    </tr>\n",
              "    <tr>\n",
              "      <td>18500</td>\n",
              "      <td>4.473500</td>\n",
              "    </tr>\n",
              "    <tr>\n",
              "      <td>19000</td>\n",
              "      <td>4.448100</td>\n",
              "    </tr>\n",
              "    <tr>\n",
              "      <td>19500</td>\n",
              "      <td>4.426100</td>\n",
              "    </tr>\n",
              "    <tr>\n",
              "      <td>20000</td>\n",
              "      <td>4.422700</td>\n",
              "    </tr>\n",
              "    <tr>\n",
              "      <td>20500</td>\n",
              "      <td>4.223600</td>\n",
              "    </tr>\n",
              "    <tr>\n",
              "      <td>21000</td>\n",
              "      <td>4.343400</td>\n",
              "    </tr>\n",
              "    <tr>\n",
              "      <td>21500</td>\n",
              "      <td>4.191300</td>\n",
              "    </tr>\n",
              "    <tr>\n",
              "      <td>22000</td>\n",
              "      <td>4.235600</td>\n",
              "    </tr>\n",
              "    <tr>\n",
              "      <td>22500</td>\n",
              "      <td>4.169400</td>\n",
              "    </tr>\n",
              "    <tr>\n",
              "      <td>23000</td>\n",
              "      <td>4.222800</td>\n",
              "    </tr>\n",
              "    <tr>\n",
              "      <td>23500</td>\n",
              "      <td>4.397100</td>\n",
              "    </tr>\n",
              "    <tr>\n",
              "      <td>24000</td>\n",
              "      <td>4.154200</td>\n",
              "    </tr>\n",
              "    <tr>\n",
              "      <td>24500</td>\n",
              "      <td>4.198800</td>\n",
              "    </tr>\n",
              "    <tr>\n",
              "      <td>25000</td>\n",
              "      <td>4.218900</td>\n",
              "    </tr>\n",
              "    <tr>\n",
              "      <td>25500</td>\n",
              "      <td>4.126200</td>\n",
              "    </tr>\n",
              "    <tr>\n",
              "      <td>26000</td>\n",
              "      <td>4.121100</td>\n",
              "    </tr>\n",
              "    <tr>\n",
              "      <td>26500</td>\n",
              "      <td>4.290000</td>\n",
              "    </tr>\n",
              "    <tr>\n",
              "      <td>27000</td>\n",
              "      <td>4.227200</td>\n",
              "    </tr>\n",
              "    <tr>\n",
              "      <td>27500</td>\n",
              "      <td>4.230000</td>\n",
              "    </tr>\n",
              "    <tr>\n",
              "      <td>28000</td>\n",
              "      <td>4.228600</td>\n",
              "    </tr>\n",
              "    <tr>\n",
              "      <td>28500</td>\n",
              "      <td>4.252800</td>\n",
              "    </tr>\n",
              "    <tr>\n",
              "      <td>29000</td>\n",
              "      <td>4.266100</td>\n",
              "    </tr>\n",
              "    <tr>\n",
              "      <td>29500</td>\n",
              "      <td>4.111200</td>\n",
              "    </tr>\n",
              "    <tr>\n",
              "      <td>30000</td>\n",
              "      <td>4.262900</td>\n",
              "    </tr>\n",
              "  </tbody>\n",
              "</table><p>"
            ],
            "text/plain": [
              "<IPython.core.display.HTML object>"
            ]
          },
          "metadata": {},
          "output_type": "display_data"
        },
        {
          "data": {
            "text/plain": [
              "TrainOutput(global_step=30000, training_loss=4.63833623046875, metrics={'train_runtime': 26243.5304, 'train_samples_per_second': 1.143, 'train_steps_per_second': 1.143, 'total_flos': 185328518400000.0, 'train_loss': 4.63833623046875, 'epoch': 3.0})"
            ]
          },
          "execution_count": 19,
          "metadata": {},
          "output_type": "execute_result"
        }
      ],
      "source": [
        "training_args = TrainingArguments(\n",
        "    output_dir='results',\n",
        "    overwrite_output_dir=True,\n",
        "    num_train_epochs=3,\n",
        "    per_device_train_batch_size=1,\n",
        "    save_steps=10000,\n",
        "    save_total_limit=2,\n",
        "    prediction_loss_only=True,\n",
        "    remove_unused_columns=False,\n",
        ")\n",
        "\n",
        "trainer = Trainer(\n",
        "    model=model,\n",
        "    args=training_args,\n",
        "    train_dataset=dataset,\n",
        "    data_collator=data_collator\n",
        ")\n",
        "\n",
        "trainer.train()"
      ]
    },
    {
      "cell_type": "code",
      "execution_count": 20,
      "metadata": {
        "id": "4itrR-w8VVS4"
      },
      "outputs": [],
      "source": [
        "if path.exists('/content/myChatBotWithGPT2Model') == False:\n",
        "  os.mkdir('/content/myChatBotWithGPT2Model')\n",
        "  trainer.save_model(\"myChatBotWithGPT2Model\")"
      ]
    },
    {
      "cell_type": "code",
      "execution_count": 21,
      "metadata": {
        "colab": {
          "base_uri": "https://localhost:8080/",
          "height": 191
        },
        "id": "3j9lhQW0V7LI",
        "outputId": "45fd48a3-7af8-4425-b15d-7b6f483da199"
      },
      "outputs": [
        {
          "name": "stdout",
          "output_type": "stream",
          "text": [
            "  adding: myChatBotWithGPT2Model/ (stored 0%)\n",
            "  adding: myChatBotWithGPT2Model/config.json (deflated 52%)\n",
            "  adding: myChatBotWithGPT2Model/pytorch_model.bin (deflated 10%)\n",
            "  adding: myChatBotWithGPT2Model/generation_config.json (deflated 24%)\n",
            "  adding: myChatBotWithGPT2Model/training_args.bin (deflated 49%)\n",
            "  adding: myTokenizer/ (stored 0%)\n",
            "  adding: myTokenizer/vocab.json (deflated 59%)\n",
            "  adding: myTokenizer/merges.txt (deflated 57%)\n"
          ]
        },
        {
          "data": {
            "application/javascript": "\n    async function download(id, filename, size) {\n      if (!google.colab.kernel.accessAllowed) {\n        return;\n      }\n      const div = document.createElement('div');\n      const label = document.createElement('label');\n      label.textContent = `Downloading \"${filename}\": `;\n      div.appendChild(label);\n      const progress = document.createElement('progress');\n      progress.max = size;\n      div.appendChild(progress);\n      document.body.appendChild(div);\n\n      const buffers = [];\n      let downloaded = 0;\n\n      const channel = await google.colab.kernel.comms.open(id);\n      // Send a message to notify the kernel that we're ready.\n      channel.send({})\n\n      for await (const message of channel.messages) {\n        // Send a message to notify the kernel that we're ready.\n        channel.send({})\n        if (message.buffers) {\n          for (const buffer of message.buffers) {\n            buffers.push(buffer);\n            downloaded += buffer.byteLength;\n            progress.value = downloaded;\n          }\n        }\n      }\n      const blob = new Blob(buffers, {type: 'application/binary'});\n      const a = document.createElement('a');\n      a.href = window.URL.createObjectURL(blob);\n      a.download = filename;\n      div.appendChild(a);\n      a.click();\n      div.remove();\n    }\n  ",
            "text/plain": [
              "<IPython.core.display.Javascript object>"
            ]
          },
          "metadata": {},
          "output_type": "display_data"
        },
        {
          "data": {
            "application/javascript": "download(\"download_721e658e-7315-4dcf-a9ff-2f65d19b224f\", \"myChatBotWithGPT2Model.zip\", 336858412)",
            "text/plain": [
              "<IPython.core.display.Javascript object>"
            ]
          },
          "metadata": {},
          "output_type": "display_data"
        },
        {
          "data": {
            "application/javascript": "\n    async function download(id, filename, size) {\n      if (!google.colab.kernel.accessAllowed) {\n        return;\n      }\n      const div = document.createElement('div');\n      const label = document.createElement('label');\n      label.textContent = `Downloading \"${filename}\": `;\n      div.appendChild(label);\n      const progress = document.createElement('progress');\n      progress.max = size;\n      div.appendChild(progress);\n      document.body.appendChild(div);\n\n      const buffers = [];\n      let downloaded = 0;\n\n      const channel = await google.colab.kernel.comms.open(id);\n      // Send a message to notify the kernel that we're ready.\n      channel.send({})\n\n      for await (const message of channel.messages) {\n        // Send a message to notify the kernel that we're ready.\n        channel.send({})\n        if (message.buffers) {\n          for (const buffer of message.buffers) {\n            buffers.push(buffer);\n            downloaded += buffer.byteLength;\n            progress.value = downloaded;\n          }\n        }\n      }\n      const blob = new Blob(buffers, {type: 'application/binary'});\n      const a = document.createElement('a');\n      a.href = window.URL.createObjectURL(blob);\n      a.download = filename;\n      div.appendChild(a);\n      a.click();\n      div.remove();\n    }\n  ",
            "text/plain": [
              "<IPython.core.display.Javascript object>"
            ]
          },
          "metadata": {},
          "output_type": "display_data"
        },
        {
          "data": {
            "application/javascript": "download(\"download_84b332fb-e359-47d8-9cdc-b6f9d7364630\", \"myTokenizer.zip\", 59310)",
            "text/plain": [
              "<IPython.core.display.Javascript object>"
            ]
          },
          "metadata": {},
          "output_type": "display_data"
        }
      ],
      "source": [
        "!zip -r myChatBotWithGPT2Model.zip myChatBotWithGPT2Model\n",
        "!zip -r myTokenizer.zip myTokenizer\n",
        "from google.colab import files\n",
        "\n",
        "files.download('myChatBotWithGPT2Model.zip')\n",
        "files.download('myTokenizer.zip')\n"
      ]
    },
    {
      "cell_type": "code",
      "execution_count": 35,
      "metadata": {},
      "outputs": [
        {
          "name": "stdout",
          "output_type": "stream",
          "text": [
            "You:  hello it is rain today\n"
          ]
        },
        {
          "name": "stderr",
          "output_type": "stream",
          "text": [
            "c:\\Users\\ngohu\\AppData\\Local\\Programs\\Python\\Python310\\lib\\site-packages\\transformers\\generation\\utils.py:1201: UserWarning: You have modified the pretrained model configuration to control generation. This is a deprecated strategy to control generation and will be removed soon, in a future version. Please use a generation configuration file (see https://huggingface.co/docs/transformers/main_classes/text_generation)\n",
            "  warnings.warn(\n"
          ]
        },
        {
          "name": "stdout",
          "output_type": "stream",
          "text": [
            "Bot: . what do you do for fun? i like to do?.. how are you like??!. i'm living? what is i am you live? how about you work? my favorite? any? do\n",
            "loss: tensor(-1.3245)\n",
            "Bot: . what do you do for fun? i like to do?.. how are you like??!. i'm living? what is i am you live? how about you enjoy i love? do not like living\n",
            "loss: tensor(-1.3355)\n",
            "Bot: . what do you do for fun? i like to do?.. how are you like??!. i'm living? what is i am you live? how about you work? my favorite? any? you\n",
            "loss: tensor(-1.3357)\n",
            "You:  i lived in HCM city\n",
            "Bot: . what do you do for fun? i'm a living?? you like?.. i love. do not work? what about you have you live? do? my favorite! i like to do\n",
            "loss: tensor(-1.2596)\n",
            "Bot: . what do you do for fun? i'm a living?? you like?.. i love. do not work? what about you have you live? do? my favorite! i have not like\n",
            "loss: tensor(-1.2631)\n",
            "Bot: . what do you do for fun? i'm a living?? you like?.. i love. do not work? what about you have you live? do? my favorite! i do. you\n",
            "loss: tensor(-1.2805)\n",
            "You:  no\n",
            "Bot: , i like to go to the beach. i love to school.. what do you like? do? i have?? you do for a living? what you live? it?. do t like eat? my favorite? they do\n",
            "loss: tensor(-1.6903)\n",
            "Bot: , i like to go to the beach. i love to school.. what do you like? do? i have?? you do for a living? what you live? it?. do t like eat? my favorite? they like\n",
            "loss: tensor(-1.6921)\n",
            "Bot: , i like to go to the beach. i love to school.. what do you like? do? i have?? you do for a living? what you live? it?. do t like eat? my favorite? they have\n",
            "loss: tensor(-1.7062)\n"
          ]
        }
      ],
      "source": [
        "model = GPT2LMHeadModel.from_pretrained('myChatBotWithGPT2Model')\n",
        "tokenizer = GPT2Tokenizer.from_pretrained(\"myTokenizer\")\n",
        "tokenizer.pad_token = tokenizer.eos_token\n",
        "tokenizer.add_special_tokens({'pad_token': '[PAD]'})\n",
        "\n",
        "# trainer_model = trainer.model\n",
        "model.config.pad_token_id = model.config.eos_token_id\n",
        "while True:\n",
        "  prompt = input('You: ')\n",
        "  if not prompt:\n",
        "    break\n",
        "  print(\"You: \", prompt)\n",
        "  model.eval()\n",
        "\n",
        "  input_ids = tokenizer.encode(prompt,  return_tensors='pt')\n",
        "  # attention_mask = torch.ones_like(input_ids)\n",
        "  beam_output = model.generate(\n",
        "    input_ids,\n",
        "    # attention_mask=attention_mask, \n",
        "    max_length=50, \n",
        "    num_beams=5, \n",
        "    temperature=0.7, \n",
        "    no_repeat_ngram_size = 2, \n",
        "    num_return_sequences = 3,\n",
        "    return_dict_in_generate = True,\n",
        "    output_scores = True,\n",
        "  )\n",
        "  loss = beam_output['sequences_scores']\n",
        "  for idx, beam in enumerate(beam_output['sequences']):\n",
        "    response = tokenizer.decode(beam, skip_special_tokens=True)\n",
        "    print('Bot: ' + response.replace(prompt, \"\"))\n",
        "    print(\"loss:\", loss[idx])\n"
      ]
    },
    {
      "attachments": {},
      "cell_type": "markdown",
      "metadata": {},
      "source": [
        "## T5"
      ]
    },
    {
      "cell_type": "code",
      "execution_count": null,
      "metadata": {},
      "outputs": [],
      "source": [
        "from transformers import T5Tokenizer, T5ForConditionalGeneration, T5Config, DataCollatorForLanguageModeling, Trainer, TrainingArguments, AdamW\n",
        "\n",
        "import sentencepiece\n",
        "from sentencepiece import SentencePieceProcessor, SentencePieceTrainer\n",
        "import datasets\n",
        "from datasets import load_dataset\n",
        "import os.path\n",
        "from os import path\n",
        "paths = ['persona-chat-10k.txt']\n",
        "# train sentencepiece from persona-chat-10k.txt and make tokenizerT5/tokenizerT5.model, tokenizerT5.vocab\n",
        "SentencePieceTrainer.Train('--input=persona-chat-10k.txt --model_prefix=tokenizerT5/tokenizerT5 --vocab_size=400')\n",
        "# make segmenter instance and load model\n",
        "sp = SentencePieceProcessor()\n",
        "sp.load('tokenizerT5/tokenizerT5.model')\n",
        "\n",
        "inp = \"Hello world!\"\n",
        "enc = sp.encode_as_ids(inp)\n",
        "enc_pie = sp.encode_as_pieces(inp)\n",
        "print(enc)\n",
        "print(enc_pie)\n",
        "print(sp.decode_ids(enc))\n",
        "print(sp.decode_pieces(enc_pie))\n",
        "tokenizerT5 = T5Tokenizer.from_pretrained('tokenizerT5/tokenizerT5.model')\n",
        "# tokenizerT5.pad_token = tokenizerT5.eos_token\n",
        "# tokenizerT5.add_special_tokens({'pad_token': '[PAD]'})\n",
        "\n",
        "inp = \"Hello world!\"\n",
        "t = tokenizerT5.encode(inp, return_tensors='pt')\n",
        "\n",
        "print(t)\n",
        "print(tokenizerT5.decode(t[0]))\n",
        "\n",
        "\n",
        "configT5 = T5Config(\n",
        "    vocab_size=tokenizerT5.vocab_size+100,\n",
        "    bos_token=tokenizerT5.bos_token_id,\n",
        "    eos_token=tokenizerT5.eos_token_id,\n",
        "    decoder_start_token_id=tokenizerT5.pad_token_id,\n",
        ")\n",
        "modelT5 = T5ForConditionalGeneration(configT5)\n",
        "datasetT5 = load_dataset(\"text\", data_files=paths)\n",
        "def encode(lines):\n",
        "    return tokenizerT5(lines['text'], add_special_tokens = True, padding=\"max_length\", truncation = True, max_length = 128)\n",
        "datasetT5.set_transform(encode)\n",
        "datasetT5 = datasetT5['train']\n",
        "\n",
        "data_collator = DataCollatorForLanguageModeling(tokenizer=tokenizerT5, mlm=False, mlm_probability=0.15)\n",
        "\n",
        "training_args = TrainingArguments(\n",
        "    output_dir='resultsT5',\n",
        "    num_train_epochs=2,\n",
        "    per_device_train_batch_size=50,\n",
        "    prediction_loss_only=True,\n",
        "    remove_unused_columns=False,\n",
        ")\n",
        "\n",
        "trainerT5 = Trainer(\n",
        "    model=modelT5,\n",
        "    args=training_args,\n",
        "    train_dataset=datasetT5,\n",
        "    data_collator=data_collator,\n",
        ")\n",
        "\n",
        "trainerT5.train()"
      ]
    },
    {
      "cell_type": "code",
      "execution_count": 3,
      "metadata": {},
      "outputs": [],
      "source": [
        "if path.exists('myChatBotWithT5') == False:\n",
        "  os.mkdir('myChatBotWithT5')\n",
        "  trainerT5.save_model(\"myChatBotWithT5\")"
      ]
    },
    {
      "cell_type": "code",
      "execution_count": 6,
      "metadata": {},
      "outputs": [
        {
          "name": "stderr",
          "output_type": "stream",
          "text": [
            "Special tokens have been added in the vocabulary, make sure the associated word embeddings are fine-tuned or trained.\n"
          ]
        },
        {
          "name": "stdout",
          "output_type": "stream",
          "text": [
            "You:  hello\n",
            "Bot: ok okverver..<extra_id_-11><extra_id_-11>.stst 3 3<extra_id_-38><extra_id_-38>keke   i i ok. ok 3<extra_id_-84><extra_id_-84>ver<extra_id_-11> i\n",
            "loss: tensor(-3.3387)\n",
            "Bot: ok okverver..<extra_id_-11><extra_id_-11>.stst 3 3<extra_id_-38><extra_id_-38>keke   i i ok. ok 3<extra_id_-84><extra_id_-84><extra_id_-11>ver i\n",
            "loss: tensor(-3.3389)\n",
            "Bot: ok okverver..<extra_id_-11><extra_id_-11>.stst 3 3<extra_id_-38><extra_id_-38>keke   i i ok. ok 3<extra_id_-84><extra_id_-84>ver<extra_id_-11> i\n",
            "loss: tensor(-3.3587)\n",
            "You:  it is rain today\n",
            "Bot: ..verver year yearss   out out.sversese. year sse out year.s. out i i<extra_id_-84><extra_id_-84>\n",
            "loss: tensor(-3.6793)\n",
            "Bot: ..verver year yearss   out out.sversese. year sse out year.s. out i i it it\n",
            "loss: tensor(-3.6838)\n",
            "Bot: ..verver year yearss   out out.sversese. year sse out year.s. out i i what what\n",
            "loss: tensor(-3.6851)\n"
          ]
        }
      ],
      "source": [
        "modelT5 = T5ForConditionalGeneration.from_pretrained('myChatBotWithT5')\n",
        "tokenizerT5 = T5Tokenizer.from_pretrained('tokenizerT5/tokenizerT5.model')\n",
        "while True:\n",
        "  prompt = input('You: ')\n",
        "  if not prompt:\n",
        "    break\n",
        "  print(\"You: \", prompt)\n",
        "  modelT5.eval()\n",
        "\n",
        "  input_ids = tokenizerT5.encode(prompt,  return_tensors='pt')\n",
        "  beam_output = modelT5.generate(\n",
        "    input_ids,\n",
        "    max_length=50, \n",
        "    num_beams=5, \n",
        "    temperature=0.7, \n",
        "    no_repeat_ngram_size = 2, \n",
        "    num_return_sequences = 3,\n",
        "    return_dict_in_generate = True,\n",
        "    output_scores = True,\n",
        "  )\n",
        "  loss = beam_output['sequences_scores']\n",
        "  for idx, beam in enumerate(beam_output['sequences']):\n",
        "    response = tokenizerT5.decode(beam, skip_special_tokens=True)\n",
        "    print('Bot: ' + response.replace(prompt, \"\"))\n",
        "    print(\"loss:\", loss[idx])\n"
      ]
    },
    {
      "attachments": {},
      "cell_type": "markdown",
      "metadata": {},
      "source": [
        "## Reformer"
      ]
    },
    {
      "cell_type": "code",
      "execution_count": 73,
      "metadata": {},
      "outputs": [
        {
          "name": "stdout",
          "output_type": "stream",
          "text": [
            "tensor([[  3,   0, 301,  42,  92,  44,  86, 397]])\n",
            "<unk>ello world!\n"
          ]
        },
        {
          "name": "stderr",
          "output_type": "stream",
          "text": [
            "Found cached dataset text (C:/Users/ngohu/.cache/huggingface/datasets/text/default-e1039025eb1bea90/0.0.0/cb1e9bd71a82ad27976be3b12b407850fe2837d80c22c5e03a28949843a8ace2)\n"
          ]
        },
        {
          "data": {
            "application/vnd.jupyter.widget-view+json": {
              "model_id": "e39c91d802c74761be78171a4b823cba",
              "version_major": 2,
              "version_minor": 0
            },
            "text/plain": [
              "  0%|          | 0/1 [00:00<?, ?it/s]"
            ]
          },
          "metadata": {},
          "output_type": "display_data"
        },
        {
          "data": {
            "application/vnd.jupyter.widget-view+json": {
              "model_id": "ae7232cf81b4492b9682b3ebc4c2e7c0",
              "version_major": 2,
              "version_minor": 0
            },
            "text/plain": [
              "  0%|          | 0/6 [00:00<?, ?it/s]"
            ]
          },
          "metadata": {},
          "output_type": "display_data"
        },
        {
          "name": "stdout",
          "output_type": "stream",
          "text": [
            "{'train_runtime': 427.2972, 'train_samples_per_second': 0.702, 'train_steps_per_second': 0.014, 'train_loss': 6.249341328938802, 'epoch': 3.0}\n"
          ]
        },
        {
          "data": {
            "text/plain": [
              "TrainOutput(global_step=6, training_loss=6.249341328938802, metrics={'train_runtime': 427.2972, 'train_samples_per_second': 0.702, 'train_steps_per_second': 0.014, 'train_loss': 6.249341328938802, 'epoch': 3.0})"
            ]
          },
          "execution_count": 73,
          "metadata": {},
          "output_type": "execute_result"
        }
      ],
      "source": [
        "from transformers import ReformerModelWithLMHead, ReformerTokenizer, ReformerConfig, DataCollatorForLanguageModeling, TrainingArguments, Trainer\n",
        "import os.path\n",
        "from os import path\n",
        "from datasets import load_dataset\n",
        "import sentencepiece\n",
        "from sentencepiece import SentencePieceProcessor, SentencePieceTrainer\n",
        "\n",
        "paths = ['persona-chat-10k.txt']\n",
        "SentencePieceTrainer.Train('--input=persona-chat-10k.txt --model_prefix=tokenizerReformer/tokenizerReformer --vocab_size=400')\n",
        "# make segmenter instance and load model\n",
        "sp = SentencePieceProcessor()\n",
        "sp.load('tokenizerReformer/tokenizerReformer.model')\n",
        "\n",
        "tokenizerReformer = ReformerTokenizer.from_pretrained(\"tokenizerReformer/tokenizerReformer.model\")\n",
        "tokenizerReformer.pad_token = tokenizerReformer.eos_token\n",
        "tokenizerReformer.add_special_tokens({'pad_token': '[PAD]'})\n",
        "\n",
        "\n",
        "inp = \"Hello world!\"\n",
        "t = tokenizerReformer.encode(inp, return_tensors='pt')\n",
        "\n",
        "print(t)\n",
        "print(tokenizerReformer.decode(t[0]))\n",
        "\n",
        "\n",
        "reformerConfig = ReformerConfig(\n",
        "    vocab_size=tokenizerReformer.vocab_size+100,\n",
        "    bos_token=tokenizerReformer.bos_token_id,\n",
        "    eos_token=tokenizerReformer.eos_token_id,\n",
        "    decoder_start_token_id=tokenizerReformer.pad_token_id,\n",
        "    is_decoder=True,\n",
        "    axial_pos_shape=[16,64],\n",
        "    num_buckets = 64,\n",
        ")\n",
        "modelReformer = ReformerModelWithLMHead(reformerConfig)\n",
        "datasetReformer = load_dataset(\"text\", data_files=paths)\n",
        "def encode(lines):\n",
        "    return tokenizerReformer(lines['text'], add_special_tokens = False, padding='max_length', truncation = True, max_length = 64*16)\n",
        "datasetReformer.set_transform(encode)\n",
        "datasetReformer = datasetReformer['train']\n",
        "\n",
        "data_collator = DataCollatorForLanguageModeling(tokenizer=tokenizerReformer, mlm=False, mlm_probability=0.15)\n",
        "\n",
        "training_args = TrainingArguments(\n",
        "    output_dir='resultsReformer',\n",
        "    num_train_epochs=3,\n",
        "    per_device_train_batch_size=50,\n",
        "    prediction_loss_only=True,\n",
        "    remove_unused_columns=False,\n",
        ")\n",
        "\n",
        "trainerReformer = Trainer(\n",
        "    model=modelReformer,\n",
        "    args=training_args,\n",
        "    train_dataset=datasetReformer,\n",
        "    data_collator=data_collator,\n",
        ")\n",
        "\n",
        "trainerReformer.train()"
      ]
    },
    {
      "cell_type": "code",
      "execution_count": 39,
      "metadata": {},
      "outputs": [],
      "source": [
        "if path.exists('myChatBotWithReformer') == False:\n",
        "  os.mkdir('myChatBotWithReformer')\n",
        "trainerReformer.save_model(\"myChatBotWithReformer\")"
      ]
    },
    {
      "cell_type": "code",
      "execution_count": 81,
      "metadata": {},
      "outputs": [
        {
          "name": "stdout",
          "output_type": "stream",
          "text": [
            "You:  hello\n",
            "response:  helloonereoodganirere talkcount go ofre takit?countre m st troneyctavvereugh winldive a to dogrere licfi movrets. controlre\n",
            "Bot:  onereoodganirere talkcount go ofre takit?countre m st troneyctavvereugh winldive a to dogrere licfi movrets. controlre\n",
            "loss: tensor(-4.7078)\n",
            "response:  helloonereoodganirere talkcount al ofre takit?countre m st troneyctavvereugh winldive a to dogrere licfi movrets. controlre\n",
            "Bot:  onereoodganirere talkcount al ofre takit?countre m st troneyctavvereugh winldive a to dogrere licfi movrets. controlre\n",
            "loss: tensor(-4.7078)\n",
            "response:  hellooneganioodganirere talkcount go ofre takit?countre m st troneyctavvereugh winldive a to dogrere licfi movrets. controlre\n",
            "Bot:  oneganioodganirere talkcount go ofre takit?countre m st troneyctavvereugh winldive a to dogrere licfi movrets. controlre\n",
            "loss: tensor(-4.7080)\n",
            "You:  it is rain today\n",
            "response:  it is rain todayre talkcount go ofre takit?countre m st troneyctavvereugh winldive a to dogrere licfi movrets. controlre\n",
            "Bot:  re talkcount go ofre takit?countre m st troneyctavvereugh winldive a to dogrere licfi movrets. controlre\n",
            "loss: tensor(-4.2117)\n",
            "response:  it is rain todayre talkcount al ofre takit?countre m st troneyctavvereugh winldive a to dogrere licfi movrets. controlre\n",
            "Bot:  re talkcount al ofre takit?countre m st troneyctavvereugh winldive a to dogrere licfi movrets. controlre\n",
            "loss: tensor(-4.2117)\n",
            "response:  it is rain todayre talkcount go ofre takit?countre m st troneyctavvereugh winldive are dogrere licfi movrets. controlre\n",
            "Bot:  re talkcount go ofre takit?countre m st troneyctavvereugh winldive are dogrere licfi movrets. controlre\n",
            "loss: tensor(-4.2121)\n",
            "You:  where is my dog\n",
            "response:  where is my dogganirere talkcount go ofre takit?countre m st troneyctavvereugh winldive a to dogrere licfi movrets. controlre\n",
            "Bot:  ganirere talkcount go ofre takit?countre m st troneyctavvereugh winldive a to dogrere licfi movrets. controlre\n",
            "loss: tensor(-4.4047)\n",
            "response:  where is my dogganirere talkcount al ofre takit?countre m st troneyctavvereugh winldive a to dogrere licfi movrets. controlre\n",
            "Bot:  ganirere talkcount al ofre takit?countre m st troneyctavvereugh winldive a to dogrere licfi movrets. controlre\n",
            "loss: tensor(-4.4047)\n",
            "response:  where is my dogganirere talkcount go ofre takit?countre m st troneyctavvereugh winldive are dogrere licfi movrets. controlre\n",
            "Bot:  ganirere talkcount go ofre takit?countre m st troneyctavvereugh winldive are dogrere licfi movrets. controlre\n",
            "loss: tensor(-4.4050)\n"
          ]
        }
      ],
      "source": [
        "modelReformer = ReformerModelWithLMHead.from_pretrained('myChatBotWithReformer')\n",
        "tokenizerReformer = ReformerTokenizer.from_pretrained(\"tokenizerReformer/tokenizerReformer.model\")\n",
        "\n",
        "while True:\n",
        "  prompt = input('You: ')\n",
        "  if not prompt:\n",
        "    break\n",
        "  print(\"You: \", prompt)\n",
        "  modelReformer.eval()\n",
        "\n",
        "  input_ids = tokenizerReformer.encode(prompt,  return_tensors='pt')\n",
        "  beam_output = modelReformer.generate(\n",
        "    input_ids,\n",
        "    max_length=50, \n",
        "    num_beams=5, \n",
        "    temperature=0.7, \n",
        "    no_repeat_ngram_size = 2, \n",
        "    num_return_sequences = 3,\n",
        "    return_dict_in_generate = True,\n",
        "    output_scores = True,\n",
        "  )\n",
        "  loss = beam_output['sequences_scores']\n",
        "  for idx, beam in enumerate(beam_output['sequences']):\n",
        "    # loại bỏ special token\n",
        "    ids = []\n",
        "    for i in beam:\n",
        "      if i < tokenizerReformer.vocab_size:\n",
        "        ids.append(i)\n",
        "      else:\n",
        "        ids.append(0)\n",
        "    response = tokenizerReformer.decode(ids, skip_special_tokens=True)\n",
        "    print('Bot: ', response.replace(prompt, \"\"))\n",
        "    print(\"loss:\", loss[idx])"
      ]
    }
  ],
  "metadata": {
    "colab": {
      "provenance": []
    },
    "kernelspec": {
      "display_name": "Python 3",
      "language": "python",
      "name": "python3"
    },
    "language_info": {
      "codemirror_mode": {
        "name": "ipython",
        "version": 3
      },
      "file_extension": ".py",
      "mimetype": "text/x-python",
      "name": "python",
      "nbconvert_exporter": "python",
      "pygments_lexer": "ipython3",
      "version": "3.10.9"
    },
    "orig_nbformat": 4,
    "widgets": {
      "application/vnd.jupyter.widget-state+json": {
        "0676988ee0e646cc86a0f54b71305b9e": {
          "model_module": "@jupyter-widgets/controls",
          "model_module_version": "1.5.0",
          "model_name": "HBoxModel",
          "state": {
            "_dom_classes": [],
            "_model_module": "@jupyter-widgets/controls",
            "_model_module_version": "1.5.0",
            "_model_name": "HBoxModel",
            "_view_count": null,
            "_view_module": "@jupyter-widgets/controls",
            "_view_module_version": "1.5.0",
            "_view_name": "HBoxView",
            "box_style": "",
            "children": [
              "IPY_MODEL_f6c198cb28624f9aba2d039eefd358fb",
              "IPY_MODEL_f15b6040c5634294bfd084761b6acbf0",
              "IPY_MODEL_d991eb5fd95a4469aa3960503f970c82"
            ],
            "layout": "IPY_MODEL_33af59e11c384f2eab9be819e1d4e669"
          }
        },
        "09aea4029366489e804c46ccae2ee831": {
          "model_module": "@jupyter-widgets/base",
          "model_module_version": "1.2.0",
          "model_name": "LayoutModel",
          "state": {
            "_model_module": "@jupyter-widgets/base",
            "_model_module_version": "1.2.0",
            "_model_name": "LayoutModel",
            "_view_count": null,
            "_view_module": "@jupyter-widgets/base",
            "_view_module_version": "1.2.0",
            "_view_name": "LayoutView",
            "align_content": null,
            "align_items": null,
            "align_self": null,
            "border": null,
            "bottom": null,
            "display": null,
            "flex": null,
            "flex_flow": null,
            "grid_area": null,
            "grid_auto_columns": null,
            "grid_auto_flow": null,
            "grid_auto_rows": null,
            "grid_column": null,
            "grid_gap": null,
            "grid_row": null,
            "grid_template_areas": null,
            "grid_template_columns": null,
            "grid_template_rows": null,
            "height": null,
            "justify_content": null,
            "justify_items": null,
            "left": null,
            "margin": null,
            "max_height": null,
            "max_width": null,
            "min_height": null,
            "min_width": null,
            "object_fit": null,
            "object_position": null,
            "order": null,
            "overflow": null,
            "overflow_x": null,
            "overflow_y": null,
            "padding": null,
            "right": null,
            "top": null,
            "visibility": null,
            "width": null
          }
        },
        "122989957a4d441ebbf6081a5d9bc23f": {
          "model_module": "@jupyter-widgets/base",
          "model_module_version": "1.2.0",
          "model_name": "LayoutModel",
          "state": {
            "_model_module": "@jupyter-widgets/base",
            "_model_module_version": "1.2.0",
            "_model_name": "LayoutModel",
            "_view_count": null,
            "_view_module": "@jupyter-widgets/base",
            "_view_module_version": "1.2.0",
            "_view_name": "LayoutView",
            "align_content": null,
            "align_items": null,
            "align_self": null,
            "border": null,
            "bottom": null,
            "display": null,
            "flex": null,
            "flex_flow": null,
            "grid_area": null,
            "grid_auto_columns": null,
            "grid_auto_flow": null,
            "grid_auto_rows": null,
            "grid_column": null,
            "grid_gap": null,
            "grid_row": null,
            "grid_template_areas": null,
            "grid_template_columns": null,
            "grid_template_rows": null,
            "height": null,
            "justify_content": null,
            "justify_items": null,
            "left": null,
            "margin": null,
            "max_height": null,
            "max_width": null,
            "min_height": null,
            "min_width": null,
            "object_fit": null,
            "object_position": null,
            "order": null,
            "overflow": null,
            "overflow_x": null,
            "overflow_y": null,
            "padding": null,
            "right": null,
            "top": null,
            "visibility": null,
            "width": null
          }
        },
        "2025401174094317a8e8a922d96957c1": {
          "model_module": "@jupyter-widgets/controls",
          "model_module_version": "1.5.0",
          "model_name": "DescriptionStyleModel",
          "state": {
            "_model_module": "@jupyter-widgets/controls",
            "_model_module_version": "1.5.0",
            "_model_name": "DescriptionStyleModel",
            "_view_count": null,
            "_view_module": "@jupyter-widgets/base",
            "_view_module_version": "1.2.0",
            "_view_name": "StyleView",
            "description_width": ""
          }
        },
        "243cf16921f1406a916988126764f3e7": {
          "model_module": "@jupyter-widgets/controls",
          "model_module_version": "1.5.0",
          "model_name": "DescriptionStyleModel",
          "state": {
            "_model_module": "@jupyter-widgets/controls",
            "_model_module_version": "1.5.0",
            "_model_name": "DescriptionStyleModel",
            "_view_count": null,
            "_view_module": "@jupyter-widgets/base",
            "_view_module_version": "1.2.0",
            "_view_name": "StyleView",
            "description_width": ""
          }
        },
        "2c63e333557a4bf9b9cebb408d969692": {
          "model_module": "@jupyter-widgets/controls",
          "model_module_version": "1.5.0",
          "model_name": "ProgressStyleModel",
          "state": {
            "_model_module": "@jupyter-widgets/controls",
            "_model_module_version": "1.5.0",
            "_model_name": "ProgressStyleModel",
            "_view_count": null,
            "_view_module": "@jupyter-widgets/base",
            "_view_module_version": "1.2.0",
            "_view_name": "StyleView",
            "bar_color": null,
            "description_width": ""
          }
        },
        "31449ea751aa43dbaeb7d4063371e2b0": {
          "model_module": "@jupyter-widgets/base",
          "model_module_version": "1.2.0",
          "model_name": "LayoutModel",
          "state": {
            "_model_module": "@jupyter-widgets/base",
            "_model_module_version": "1.2.0",
            "_model_name": "LayoutModel",
            "_view_count": null,
            "_view_module": "@jupyter-widgets/base",
            "_view_module_version": "1.2.0",
            "_view_name": "LayoutView",
            "align_content": null,
            "align_items": null,
            "align_self": null,
            "border": null,
            "bottom": null,
            "display": null,
            "flex": null,
            "flex_flow": null,
            "grid_area": null,
            "grid_auto_columns": null,
            "grid_auto_flow": null,
            "grid_auto_rows": null,
            "grid_column": null,
            "grid_gap": null,
            "grid_row": null,
            "grid_template_areas": null,
            "grid_template_columns": null,
            "grid_template_rows": null,
            "height": null,
            "justify_content": null,
            "justify_items": null,
            "left": null,
            "margin": null,
            "max_height": null,
            "max_width": null,
            "min_height": null,
            "min_width": null,
            "object_fit": null,
            "object_position": null,
            "order": null,
            "overflow": null,
            "overflow_x": null,
            "overflow_y": null,
            "padding": null,
            "right": null,
            "top": null,
            "visibility": null,
            "width": null
          }
        },
        "33af59e11c384f2eab9be819e1d4e669": {
          "model_module": "@jupyter-widgets/base",
          "model_module_version": "1.2.0",
          "model_name": "LayoutModel",
          "state": {
            "_model_module": "@jupyter-widgets/base",
            "_model_module_version": "1.2.0",
            "_model_name": "LayoutModel",
            "_view_count": null,
            "_view_module": "@jupyter-widgets/base",
            "_view_module_version": "1.2.0",
            "_view_name": "LayoutView",
            "align_content": null,
            "align_items": null,
            "align_self": null,
            "border": null,
            "bottom": null,
            "display": null,
            "flex": null,
            "flex_flow": null,
            "grid_area": null,
            "grid_auto_columns": null,
            "grid_auto_flow": null,
            "grid_auto_rows": null,
            "grid_column": null,
            "grid_gap": null,
            "grid_row": null,
            "grid_template_areas": null,
            "grid_template_columns": null,
            "grid_template_rows": null,
            "height": null,
            "justify_content": null,
            "justify_items": null,
            "left": null,
            "margin": null,
            "max_height": null,
            "max_width": null,
            "min_height": null,
            "min_width": null,
            "object_fit": null,
            "object_position": null,
            "order": null,
            "overflow": null,
            "overflow_x": null,
            "overflow_y": null,
            "padding": null,
            "right": null,
            "top": null,
            "visibility": null,
            "width": null
          }
        },
        "371f2d1ef300432eb7b912651a489ed7": {
          "model_module": "@jupyter-widgets/base",
          "model_module_version": "1.2.0",
          "model_name": "LayoutModel",
          "state": {
            "_model_module": "@jupyter-widgets/base",
            "_model_module_version": "1.2.0",
            "_model_name": "LayoutModel",
            "_view_count": null,
            "_view_module": "@jupyter-widgets/base",
            "_view_module_version": "1.2.0",
            "_view_name": "LayoutView",
            "align_content": null,
            "align_items": null,
            "align_self": null,
            "border": null,
            "bottom": null,
            "display": null,
            "flex": null,
            "flex_flow": null,
            "grid_area": null,
            "grid_auto_columns": null,
            "grid_auto_flow": null,
            "grid_auto_rows": null,
            "grid_column": null,
            "grid_gap": null,
            "grid_row": null,
            "grid_template_areas": null,
            "grid_template_columns": null,
            "grid_template_rows": null,
            "height": null,
            "justify_content": null,
            "justify_items": null,
            "left": null,
            "margin": null,
            "max_height": null,
            "max_width": null,
            "min_height": null,
            "min_width": null,
            "object_fit": null,
            "object_position": null,
            "order": null,
            "overflow": null,
            "overflow_x": null,
            "overflow_y": null,
            "padding": null,
            "right": null,
            "top": null,
            "visibility": null,
            "width": null
          }
        },
        "3b813d6448f74a1faefc339d96a8ab6c": {
          "model_module": "@jupyter-widgets/controls",
          "model_module_version": "1.5.0",
          "model_name": "HBoxModel",
          "state": {
            "_dom_classes": [],
            "_model_module": "@jupyter-widgets/controls",
            "_model_module_version": "1.5.0",
            "_model_name": "HBoxModel",
            "_view_count": null,
            "_view_module": "@jupyter-widgets/controls",
            "_view_module_version": "1.5.0",
            "_view_name": "HBoxView",
            "box_style": "",
            "children": [
              "IPY_MODEL_626f492a3bf74e2fb07e45dcd3132d71",
              "IPY_MODEL_a4de4955cc4a4e03a67437fa84067b49",
              "IPY_MODEL_96893ec5232a4d3793a0c08c08c282a2"
            ],
            "layout": "IPY_MODEL_620010ffb08b4cafb9cfc07c2f037988"
          }
        },
        "3bf305f2a3114f028b26068f2cee1eec": {
          "model_module": "@jupyter-widgets/controls",
          "model_module_version": "1.5.0",
          "model_name": "DescriptionStyleModel",
          "state": {
            "_model_module": "@jupyter-widgets/controls",
            "_model_module_version": "1.5.0",
            "_model_name": "DescriptionStyleModel",
            "_view_count": null,
            "_view_module": "@jupyter-widgets/base",
            "_view_module_version": "1.2.0",
            "_view_name": "StyleView",
            "description_width": ""
          }
        },
        "41c45bc12d644d8ea358455498d85ea3": {
          "model_module": "@jupyter-widgets/controls",
          "model_module_version": "1.5.0",
          "model_name": "HTMLModel",
          "state": {
            "_dom_classes": [],
            "_model_module": "@jupyter-widgets/controls",
            "_model_module_version": "1.5.0",
            "_model_name": "HTMLModel",
            "_view_count": null,
            "_view_module": "@jupyter-widgets/controls",
            "_view_module_version": "1.5.0",
            "_view_name": "HTMLView",
            "description": "",
            "description_tooltip": null,
            "layout": "IPY_MODEL_ece49c9d538d4e74b45ff41b27fd70bc",
            "placeholder": "​",
            "style": "IPY_MODEL_7853eb25d5da45e6b2207c2f9bc20a28",
            "value": "100%"
          }
        },
        "442015b44cf641cd9766ef8b98261e07": {
          "model_module": "@jupyter-widgets/base",
          "model_module_version": "1.2.0",
          "model_name": "LayoutModel",
          "state": {
            "_model_module": "@jupyter-widgets/base",
            "_model_module_version": "1.2.0",
            "_model_name": "LayoutModel",
            "_view_count": null,
            "_view_module": "@jupyter-widgets/base",
            "_view_module_version": "1.2.0",
            "_view_name": "LayoutView",
            "align_content": null,
            "align_items": null,
            "align_self": null,
            "border": null,
            "bottom": null,
            "display": null,
            "flex": null,
            "flex_flow": null,
            "grid_area": null,
            "grid_auto_columns": null,
            "grid_auto_flow": null,
            "grid_auto_rows": null,
            "grid_column": null,
            "grid_gap": null,
            "grid_row": null,
            "grid_template_areas": null,
            "grid_template_columns": null,
            "grid_template_rows": null,
            "height": null,
            "justify_content": null,
            "justify_items": null,
            "left": null,
            "margin": null,
            "max_height": null,
            "max_width": null,
            "min_height": null,
            "min_width": null,
            "object_fit": null,
            "object_position": null,
            "order": null,
            "overflow": null,
            "overflow_x": null,
            "overflow_y": null,
            "padding": null,
            "right": null,
            "top": null,
            "visibility": null,
            "width": null
          }
        },
        "45957af647454236b4cd97418aee1bd3": {
          "model_module": "@jupyter-widgets/base",
          "model_module_version": "1.2.0",
          "model_name": "LayoutModel",
          "state": {
            "_model_module": "@jupyter-widgets/base",
            "_model_module_version": "1.2.0",
            "_model_name": "LayoutModel",
            "_view_count": null,
            "_view_module": "@jupyter-widgets/base",
            "_view_module_version": "1.2.0",
            "_view_name": "LayoutView",
            "align_content": null,
            "align_items": null,
            "align_self": null,
            "border": null,
            "bottom": null,
            "display": null,
            "flex": null,
            "flex_flow": null,
            "grid_area": null,
            "grid_auto_columns": null,
            "grid_auto_flow": null,
            "grid_auto_rows": null,
            "grid_column": null,
            "grid_gap": null,
            "grid_row": null,
            "grid_template_areas": null,
            "grid_template_columns": null,
            "grid_template_rows": null,
            "height": null,
            "justify_content": null,
            "justify_items": null,
            "left": null,
            "margin": null,
            "max_height": null,
            "max_width": null,
            "min_height": null,
            "min_width": null,
            "object_fit": null,
            "object_position": null,
            "order": null,
            "overflow": null,
            "overflow_x": null,
            "overflow_y": null,
            "padding": null,
            "right": null,
            "top": null,
            "visibility": null,
            "width": "20px"
          }
        },
        "5272115e696e4b778e1f9b89fd0c77fe": {
          "model_module": "@jupyter-widgets/controls",
          "model_module_version": "1.5.0",
          "model_name": "FloatProgressModel",
          "state": {
            "_dom_classes": [],
            "_model_module": "@jupyter-widgets/controls",
            "_model_module_version": "1.5.0",
            "_model_name": "FloatProgressModel",
            "_view_count": null,
            "_view_module": "@jupyter-widgets/controls",
            "_view_module_version": "1.5.0",
            "_view_name": "ProgressView",
            "bar_style": "success",
            "description": "",
            "description_tooltip": null,
            "layout": "IPY_MODEL_31449ea751aa43dbaeb7d4063371e2b0",
            "max": 1,
            "min": 0,
            "orientation": "horizontal",
            "style": "IPY_MODEL_2c63e333557a4bf9b9cebb408d969692",
            "value": 1
          }
        },
        "52d03806460749ac8e284b5bb35f408a": {
          "model_module": "@jupyter-widgets/controls",
          "model_module_version": "1.5.0",
          "model_name": "HTMLModel",
          "state": {
            "_dom_classes": [],
            "_model_module": "@jupyter-widgets/controls",
            "_model_module_version": "1.5.0",
            "_model_name": "HTMLModel",
            "_view_count": null,
            "_view_module": "@jupyter-widgets/controls",
            "_view_module_version": "1.5.0",
            "_view_name": "HTMLView",
            "description": "",
            "description_tooltip": null,
            "layout": "IPY_MODEL_09aea4029366489e804c46ccae2ee831",
            "placeholder": "​",
            "style": "IPY_MODEL_243cf16921f1406a916988126764f3e7",
            "value": " 1/1 [00:00&lt;00:00, 10.91it/s]"
          }
        },
        "5c6c00dd16f24a988652ddf41ae8a78c": {
          "model_module": "@jupyter-widgets/controls",
          "model_module_version": "1.5.0",
          "model_name": "HBoxModel",
          "state": {
            "_dom_classes": [],
            "_model_module": "@jupyter-widgets/controls",
            "_model_module_version": "1.5.0",
            "_model_name": "HBoxModel",
            "_view_count": null,
            "_view_module": "@jupyter-widgets/controls",
            "_view_module_version": "1.5.0",
            "_view_name": "HBoxView",
            "box_style": "",
            "children": [
              "IPY_MODEL_9545ced8e1764658a2e5f9468ae01a21",
              "IPY_MODEL_5272115e696e4b778e1f9b89fd0c77fe",
              "IPY_MODEL_52d03806460749ac8e284b5bb35f408a"
            ],
            "layout": "IPY_MODEL_c0a613685cc044b6a19f22ee3e086fc5"
          }
        },
        "5fc94d169b1641b4b208ee9a12c59af1": {
          "model_module": "@jupyter-widgets/controls",
          "model_module_version": "1.5.0",
          "model_name": "FloatProgressModel",
          "state": {
            "_dom_classes": [],
            "_model_module": "@jupyter-widgets/controls",
            "_model_module_version": "1.5.0",
            "_model_name": "FloatProgressModel",
            "_view_count": null,
            "_view_module": "@jupyter-widgets/controls",
            "_view_module_version": "1.5.0",
            "_view_name": "ProgressView",
            "bar_style": "success",
            "description": "",
            "description_tooltip": null,
            "layout": "IPY_MODEL_6454d1b7820e4c70ba7f3002e8ad94b5",
            "max": 1,
            "min": 0,
            "orientation": "horizontal",
            "style": "IPY_MODEL_c1185ee542d34951bf3df7ac17313591",
            "value": 1
          }
        },
        "620010ffb08b4cafb9cfc07c2f037988": {
          "model_module": "@jupyter-widgets/base",
          "model_module_version": "1.2.0",
          "model_name": "LayoutModel",
          "state": {
            "_model_module": "@jupyter-widgets/base",
            "_model_module_version": "1.2.0",
            "_model_name": "LayoutModel",
            "_view_count": null,
            "_view_module": "@jupyter-widgets/base",
            "_view_module_version": "1.2.0",
            "_view_name": "LayoutView",
            "align_content": null,
            "align_items": null,
            "align_self": null,
            "border": null,
            "bottom": null,
            "display": null,
            "flex": null,
            "flex_flow": null,
            "grid_area": null,
            "grid_auto_columns": null,
            "grid_auto_flow": null,
            "grid_auto_rows": null,
            "grid_column": null,
            "grid_gap": null,
            "grid_row": null,
            "grid_template_areas": null,
            "grid_template_columns": null,
            "grid_template_rows": null,
            "height": null,
            "justify_content": null,
            "justify_items": null,
            "left": null,
            "margin": null,
            "max_height": null,
            "max_width": null,
            "min_height": null,
            "min_width": null,
            "object_fit": null,
            "object_position": null,
            "order": null,
            "overflow": null,
            "overflow_x": null,
            "overflow_y": null,
            "padding": null,
            "right": null,
            "top": null,
            "visibility": "hidden",
            "width": null
          }
        },
        "626f492a3bf74e2fb07e45dcd3132d71": {
          "model_module": "@jupyter-widgets/controls",
          "model_module_version": "1.5.0",
          "model_name": "HTMLModel",
          "state": {
            "_dom_classes": [],
            "_model_module": "@jupyter-widgets/controls",
            "_model_module_version": "1.5.0",
            "_model_name": "HTMLModel",
            "_view_count": null,
            "_view_module": "@jupyter-widgets/controls",
            "_view_module_version": "1.5.0",
            "_view_name": "HTMLView",
            "description": "",
            "description_tooltip": null,
            "layout": "IPY_MODEL_122989957a4d441ebbf6081a5d9bc23f",
            "placeholder": "​",
            "style": "IPY_MODEL_2025401174094317a8e8a922d96957c1",
            "value": "Generating train split: "
          }
        },
        "6454d1b7820e4c70ba7f3002e8ad94b5": {
          "model_module": "@jupyter-widgets/base",
          "model_module_version": "1.2.0",
          "model_name": "LayoutModel",
          "state": {
            "_model_module": "@jupyter-widgets/base",
            "_model_module_version": "1.2.0",
            "_model_name": "LayoutModel",
            "_view_count": null,
            "_view_module": "@jupyter-widgets/base",
            "_view_module_version": "1.2.0",
            "_view_name": "LayoutView",
            "align_content": null,
            "align_items": null,
            "align_self": null,
            "border": null,
            "bottom": null,
            "display": null,
            "flex": null,
            "flex_flow": null,
            "grid_area": null,
            "grid_auto_columns": null,
            "grid_auto_flow": null,
            "grid_auto_rows": null,
            "grid_column": null,
            "grid_gap": null,
            "grid_row": null,
            "grid_template_areas": null,
            "grid_template_columns": null,
            "grid_template_rows": null,
            "height": null,
            "justify_content": null,
            "justify_items": null,
            "left": null,
            "margin": null,
            "max_height": null,
            "max_width": null,
            "min_height": null,
            "min_width": null,
            "object_fit": null,
            "object_position": null,
            "order": null,
            "overflow": null,
            "overflow_x": null,
            "overflow_y": null,
            "padding": null,
            "right": null,
            "top": null,
            "visibility": null,
            "width": null
          }
        },
        "71137d16b4714157bad59abf039f5f4e": {
          "model_module": "@jupyter-widgets/base",
          "model_module_version": "1.2.0",
          "model_name": "LayoutModel",
          "state": {
            "_model_module": "@jupyter-widgets/base",
            "_model_module_version": "1.2.0",
            "_model_name": "LayoutModel",
            "_view_count": null,
            "_view_module": "@jupyter-widgets/base",
            "_view_module_version": "1.2.0",
            "_view_name": "LayoutView",
            "align_content": null,
            "align_items": null,
            "align_self": null,
            "border": null,
            "bottom": null,
            "display": null,
            "flex": null,
            "flex_flow": null,
            "grid_area": null,
            "grid_auto_columns": null,
            "grid_auto_flow": null,
            "grid_auto_rows": null,
            "grid_column": null,
            "grid_gap": null,
            "grid_row": null,
            "grid_template_areas": null,
            "grid_template_columns": null,
            "grid_template_rows": null,
            "height": null,
            "justify_content": null,
            "justify_items": null,
            "left": null,
            "margin": null,
            "max_height": null,
            "max_width": null,
            "min_height": null,
            "min_width": null,
            "object_fit": null,
            "object_position": null,
            "order": null,
            "overflow": null,
            "overflow_x": null,
            "overflow_y": null,
            "padding": null,
            "right": null,
            "top": null,
            "visibility": null,
            "width": null
          }
        },
        "7307265543014fd8b143814432f12c16": {
          "model_module": "@jupyter-widgets/base",
          "model_module_version": "1.2.0",
          "model_name": "LayoutModel",
          "state": {
            "_model_module": "@jupyter-widgets/base",
            "_model_module_version": "1.2.0",
            "_model_name": "LayoutModel",
            "_view_count": null,
            "_view_module": "@jupyter-widgets/base",
            "_view_module_version": "1.2.0",
            "_view_name": "LayoutView",
            "align_content": null,
            "align_items": null,
            "align_self": null,
            "border": null,
            "bottom": null,
            "display": null,
            "flex": null,
            "flex_flow": null,
            "grid_area": null,
            "grid_auto_columns": null,
            "grid_auto_flow": null,
            "grid_auto_rows": null,
            "grid_column": null,
            "grid_gap": null,
            "grid_row": null,
            "grid_template_areas": null,
            "grid_template_columns": null,
            "grid_template_rows": null,
            "height": null,
            "justify_content": null,
            "justify_items": null,
            "left": null,
            "margin": null,
            "max_height": null,
            "max_width": null,
            "min_height": null,
            "min_width": null,
            "object_fit": null,
            "object_position": null,
            "order": null,
            "overflow": null,
            "overflow_x": null,
            "overflow_y": null,
            "padding": null,
            "right": null,
            "top": null,
            "visibility": null,
            "width": null
          }
        },
        "73591e0b36044a688769997a659650bd": {
          "model_module": "@jupyter-widgets/controls",
          "model_module_version": "1.5.0",
          "model_name": "DescriptionStyleModel",
          "state": {
            "_model_module": "@jupyter-widgets/controls",
            "_model_module_version": "1.5.0",
            "_model_name": "DescriptionStyleModel",
            "_view_count": null,
            "_view_module": "@jupyter-widgets/base",
            "_view_module_version": "1.2.0",
            "_view_name": "StyleView",
            "description_width": ""
          }
        },
        "7853eb25d5da45e6b2207c2f9bc20a28": {
          "model_module": "@jupyter-widgets/controls",
          "model_module_version": "1.5.0",
          "model_name": "DescriptionStyleModel",
          "state": {
            "_model_module": "@jupyter-widgets/controls",
            "_model_module_version": "1.5.0",
            "_model_name": "DescriptionStyleModel",
            "_view_count": null,
            "_view_module": "@jupyter-widgets/base",
            "_view_module_version": "1.2.0",
            "_view_name": "StyleView",
            "description_width": ""
          }
        },
        "7c2ebe662e3f43bcad6b9bafbb483b39": {
          "model_module": "@jupyter-widgets/controls",
          "model_module_version": "1.5.0",
          "model_name": "DescriptionStyleModel",
          "state": {
            "_model_module": "@jupyter-widgets/controls",
            "_model_module_version": "1.5.0",
            "_model_name": "DescriptionStyleModel",
            "_view_count": null,
            "_view_module": "@jupyter-widgets/base",
            "_view_module_version": "1.2.0",
            "_view_name": "StyleView",
            "description_width": ""
          }
        },
        "89d47e294c1f43e8b52035d8be41d3b5": {
          "model_module": "@jupyter-widgets/controls",
          "model_module_version": "1.5.0",
          "model_name": "DescriptionStyleModel",
          "state": {
            "_model_module": "@jupyter-widgets/controls",
            "_model_module_version": "1.5.0",
            "_model_name": "DescriptionStyleModel",
            "_view_count": null,
            "_view_module": "@jupyter-widgets/base",
            "_view_module_version": "1.2.0",
            "_view_name": "StyleView",
            "description_width": ""
          }
        },
        "8c7c70a8538a40b6b5cb2a77b2815e4a": {
          "model_module": "@jupyter-widgets/base",
          "model_module_version": "1.2.0",
          "model_name": "LayoutModel",
          "state": {
            "_model_module": "@jupyter-widgets/base",
            "_model_module_version": "1.2.0",
            "_model_name": "LayoutModel",
            "_view_count": null,
            "_view_module": "@jupyter-widgets/base",
            "_view_module_version": "1.2.0",
            "_view_name": "LayoutView",
            "align_content": null,
            "align_items": null,
            "align_self": null,
            "border": null,
            "bottom": null,
            "display": null,
            "flex": null,
            "flex_flow": null,
            "grid_area": null,
            "grid_auto_columns": null,
            "grid_auto_flow": null,
            "grid_auto_rows": null,
            "grid_column": null,
            "grid_gap": null,
            "grid_row": null,
            "grid_template_areas": null,
            "grid_template_columns": null,
            "grid_template_rows": null,
            "height": null,
            "justify_content": null,
            "justify_items": null,
            "left": null,
            "margin": null,
            "max_height": null,
            "max_width": null,
            "min_height": null,
            "min_width": null,
            "object_fit": null,
            "object_position": null,
            "order": null,
            "overflow": null,
            "overflow_x": null,
            "overflow_y": null,
            "padding": null,
            "right": null,
            "top": null,
            "visibility": null,
            "width": null
          }
        },
        "90bfd3857899415791fe721c99682eb1": {
          "model_module": "@jupyter-widgets/controls",
          "model_module_version": "1.5.0",
          "model_name": "DescriptionStyleModel",
          "state": {
            "_model_module": "@jupyter-widgets/controls",
            "_model_module_version": "1.5.0",
            "_model_name": "DescriptionStyleModel",
            "_view_count": null,
            "_view_module": "@jupyter-widgets/base",
            "_view_module_version": "1.2.0",
            "_view_name": "StyleView",
            "description_width": ""
          }
        },
        "9211f30ae4ad4813bd36dbe35f1ff229": {
          "model_module": "@jupyter-widgets/base",
          "model_module_version": "1.2.0",
          "model_name": "LayoutModel",
          "state": {
            "_model_module": "@jupyter-widgets/base",
            "_model_module_version": "1.2.0",
            "_model_name": "LayoutModel",
            "_view_count": null,
            "_view_module": "@jupyter-widgets/base",
            "_view_module_version": "1.2.0",
            "_view_name": "LayoutView",
            "align_content": null,
            "align_items": null,
            "align_self": null,
            "border": null,
            "bottom": null,
            "display": null,
            "flex": null,
            "flex_flow": null,
            "grid_area": null,
            "grid_auto_columns": null,
            "grid_auto_flow": null,
            "grid_auto_rows": null,
            "grid_column": null,
            "grid_gap": null,
            "grid_row": null,
            "grid_template_areas": null,
            "grid_template_columns": null,
            "grid_template_rows": null,
            "height": null,
            "justify_content": null,
            "justify_items": null,
            "left": null,
            "margin": null,
            "max_height": null,
            "max_width": null,
            "min_height": null,
            "min_width": null,
            "object_fit": null,
            "object_position": null,
            "order": null,
            "overflow": null,
            "overflow_x": null,
            "overflow_y": null,
            "padding": null,
            "right": null,
            "top": null,
            "visibility": null,
            "width": null
          }
        },
        "9545ced8e1764658a2e5f9468ae01a21": {
          "model_module": "@jupyter-widgets/controls",
          "model_module_version": "1.5.0",
          "model_name": "HTMLModel",
          "state": {
            "_dom_classes": [],
            "_model_module": "@jupyter-widgets/controls",
            "_model_module_version": "1.5.0",
            "_model_name": "HTMLModel",
            "_view_count": null,
            "_view_module": "@jupyter-widgets/controls",
            "_view_module_version": "1.5.0",
            "_view_name": "HTMLView",
            "description": "",
            "description_tooltip": null,
            "layout": "IPY_MODEL_442015b44cf641cd9766ef8b98261e07",
            "placeholder": "​",
            "style": "IPY_MODEL_3bf305f2a3114f028b26068f2cee1eec",
            "value": "Downloading data files: 100%"
          }
        },
        "96893ec5232a4d3793a0c08c08c282a2": {
          "model_module": "@jupyter-widgets/controls",
          "model_module_version": "1.5.0",
          "model_name": "HTMLModel",
          "state": {
            "_dom_classes": [],
            "_model_module": "@jupyter-widgets/controls",
            "_model_module_version": "1.5.0",
            "_model_name": "HTMLModel",
            "_view_count": null,
            "_view_module": "@jupyter-widgets/controls",
            "_view_module_version": "1.5.0",
            "_view_name": "HTMLView",
            "description": "",
            "description_tooltip": null,
            "layout": "IPY_MODEL_71137d16b4714157bad59abf039f5f4e",
            "placeholder": "​",
            "style": "IPY_MODEL_90bfd3857899415791fe721c99682eb1",
            "value": " 10000/0 [00:00&lt;00:00, 72100.53 examples/s]"
          }
        },
        "a49a2546a07d456b9515aa2e47b75a5d": {
          "model_module": "@jupyter-widgets/controls",
          "model_module_version": "1.5.0",
          "model_name": "ProgressStyleModel",
          "state": {
            "_model_module": "@jupyter-widgets/controls",
            "_model_module_version": "1.5.0",
            "_model_name": "ProgressStyleModel",
            "_view_count": null,
            "_view_module": "@jupyter-widgets/base",
            "_view_module_version": "1.2.0",
            "_view_name": "StyleView",
            "bar_color": null,
            "description_width": ""
          }
        },
        "a4de4955cc4a4e03a67437fa84067b49": {
          "model_module": "@jupyter-widgets/controls",
          "model_module_version": "1.5.0",
          "model_name": "FloatProgressModel",
          "state": {
            "_dom_classes": [],
            "_model_module": "@jupyter-widgets/controls",
            "_model_module_version": "1.5.0",
            "_model_name": "FloatProgressModel",
            "_view_count": null,
            "_view_module": "@jupyter-widgets/controls",
            "_view_module_version": "1.5.0",
            "_view_name": "ProgressView",
            "bar_style": "info",
            "description": "",
            "description_tooltip": null,
            "layout": "IPY_MODEL_45957af647454236b4cd97418aee1bd3",
            "max": 1,
            "min": 0,
            "orientation": "horizontal",
            "style": "IPY_MODEL_a49a2546a07d456b9515aa2e47b75a5d",
            "value": 1
          }
        },
        "c0a613685cc044b6a19f22ee3e086fc5": {
          "model_module": "@jupyter-widgets/base",
          "model_module_version": "1.2.0",
          "model_name": "LayoutModel",
          "state": {
            "_model_module": "@jupyter-widgets/base",
            "_model_module_version": "1.2.0",
            "_model_name": "LayoutModel",
            "_view_count": null,
            "_view_module": "@jupyter-widgets/base",
            "_view_module_version": "1.2.0",
            "_view_name": "LayoutView",
            "align_content": null,
            "align_items": null,
            "align_self": null,
            "border": null,
            "bottom": null,
            "display": null,
            "flex": null,
            "flex_flow": null,
            "grid_area": null,
            "grid_auto_columns": null,
            "grid_auto_flow": null,
            "grid_auto_rows": null,
            "grid_column": null,
            "grid_gap": null,
            "grid_row": null,
            "grid_template_areas": null,
            "grid_template_columns": null,
            "grid_template_rows": null,
            "height": null,
            "justify_content": null,
            "justify_items": null,
            "left": null,
            "margin": null,
            "max_height": null,
            "max_width": null,
            "min_height": null,
            "min_width": null,
            "object_fit": null,
            "object_position": null,
            "order": null,
            "overflow": null,
            "overflow_x": null,
            "overflow_y": null,
            "padding": null,
            "right": null,
            "top": null,
            "visibility": null,
            "width": null
          }
        },
        "c1185ee542d34951bf3df7ac17313591": {
          "model_module": "@jupyter-widgets/controls",
          "model_module_version": "1.5.0",
          "model_name": "ProgressStyleModel",
          "state": {
            "_model_module": "@jupyter-widgets/controls",
            "_model_module_version": "1.5.0",
            "_model_name": "ProgressStyleModel",
            "_view_count": null,
            "_view_module": "@jupyter-widgets/base",
            "_view_module_version": "1.2.0",
            "_view_name": "StyleView",
            "bar_color": null,
            "description_width": ""
          }
        },
        "d991eb5fd95a4469aa3960503f970c82": {
          "model_module": "@jupyter-widgets/controls",
          "model_module_version": "1.5.0",
          "model_name": "HTMLModel",
          "state": {
            "_dom_classes": [],
            "_model_module": "@jupyter-widgets/controls",
            "_model_module_version": "1.5.0",
            "_model_name": "HTMLModel",
            "_view_count": null,
            "_view_module": "@jupyter-widgets/controls",
            "_view_module_version": "1.5.0",
            "_view_name": "HTMLView",
            "description": "",
            "description_tooltip": null,
            "layout": "IPY_MODEL_371f2d1ef300432eb7b912651a489ed7",
            "placeholder": "​",
            "style": "IPY_MODEL_7c2ebe662e3f43bcad6b9bafbb483b39",
            "value": " 1/1 [00:00&lt;00:00, 26.71it/s]"
          }
        },
        "e520603c5d874dedb58e1534e6866991": {
          "model_module": "@jupyter-widgets/controls",
          "model_module_version": "1.5.0",
          "model_name": "HBoxModel",
          "state": {
            "_dom_classes": [],
            "_model_module": "@jupyter-widgets/controls",
            "_model_module_version": "1.5.0",
            "_model_name": "HBoxModel",
            "_view_count": null,
            "_view_module": "@jupyter-widgets/controls",
            "_view_module_version": "1.5.0",
            "_view_name": "HBoxView",
            "box_style": "",
            "children": [
              "IPY_MODEL_41c45bc12d644d8ea358455498d85ea3",
              "IPY_MODEL_5fc94d169b1641b4b208ee9a12c59af1",
              "IPY_MODEL_fe19f90692b346ca9512453d42e8a44e"
            ],
            "layout": "IPY_MODEL_7307265543014fd8b143814432f12c16"
          }
        },
        "e7084db5775b4e3186f7b64e8f72d798": {
          "model_module": "@jupyter-widgets/controls",
          "model_module_version": "1.5.0",
          "model_name": "ProgressStyleModel",
          "state": {
            "_model_module": "@jupyter-widgets/controls",
            "_model_module_version": "1.5.0",
            "_model_name": "ProgressStyleModel",
            "_view_count": null,
            "_view_module": "@jupyter-widgets/base",
            "_view_module_version": "1.2.0",
            "_view_name": "StyleView",
            "bar_color": null,
            "description_width": ""
          }
        },
        "ece49c9d538d4e74b45ff41b27fd70bc": {
          "model_module": "@jupyter-widgets/base",
          "model_module_version": "1.2.0",
          "model_name": "LayoutModel",
          "state": {
            "_model_module": "@jupyter-widgets/base",
            "_model_module_version": "1.2.0",
            "_model_name": "LayoutModel",
            "_view_count": null,
            "_view_module": "@jupyter-widgets/base",
            "_view_module_version": "1.2.0",
            "_view_name": "LayoutView",
            "align_content": null,
            "align_items": null,
            "align_self": null,
            "border": null,
            "bottom": null,
            "display": null,
            "flex": null,
            "flex_flow": null,
            "grid_area": null,
            "grid_auto_columns": null,
            "grid_auto_flow": null,
            "grid_auto_rows": null,
            "grid_column": null,
            "grid_gap": null,
            "grid_row": null,
            "grid_template_areas": null,
            "grid_template_columns": null,
            "grid_template_rows": null,
            "height": null,
            "justify_content": null,
            "justify_items": null,
            "left": null,
            "margin": null,
            "max_height": null,
            "max_width": null,
            "min_height": null,
            "min_width": null,
            "object_fit": null,
            "object_position": null,
            "order": null,
            "overflow": null,
            "overflow_x": null,
            "overflow_y": null,
            "padding": null,
            "right": null,
            "top": null,
            "visibility": null,
            "width": null
          }
        },
        "f15b6040c5634294bfd084761b6acbf0": {
          "model_module": "@jupyter-widgets/controls",
          "model_module_version": "1.5.0",
          "model_name": "FloatProgressModel",
          "state": {
            "_dom_classes": [],
            "_model_module": "@jupyter-widgets/controls",
            "_model_module_version": "1.5.0",
            "_model_name": "FloatProgressModel",
            "_view_count": null,
            "_view_module": "@jupyter-widgets/controls",
            "_view_module_version": "1.5.0",
            "_view_name": "ProgressView",
            "bar_style": "success",
            "description": "",
            "description_tooltip": null,
            "layout": "IPY_MODEL_9211f30ae4ad4813bd36dbe35f1ff229",
            "max": 1,
            "min": 0,
            "orientation": "horizontal",
            "style": "IPY_MODEL_e7084db5775b4e3186f7b64e8f72d798",
            "value": 1
          }
        },
        "f6c198cb28624f9aba2d039eefd358fb": {
          "model_module": "@jupyter-widgets/controls",
          "model_module_version": "1.5.0",
          "model_name": "HTMLModel",
          "state": {
            "_dom_classes": [],
            "_model_module": "@jupyter-widgets/controls",
            "_model_module_version": "1.5.0",
            "_model_name": "HTMLModel",
            "_view_count": null,
            "_view_module": "@jupyter-widgets/controls",
            "_view_module_version": "1.5.0",
            "_view_name": "HTMLView",
            "description": "",
            "description_tooltip": null,
            "layout": "IPY_MODEL_8c7c70a8538a40b6b5cb2a77b2815e4a",
            "placeholder": "​",
            "style": "IPY_MODEL_73591e0b36044a688769997a659650bd",
            "value": "Extracting data files: 100%"
          }
        },
        "f7e88a9ffad34087bdb4bd7f8eb04006": {
          "model_module": "@jupyter-widgets/base",
          "model_module_version": "1.2.0",
          "model_name": "LayoutModel",
          "state": {
            "_model_module": "@jupyter-widgets/base",
            "_model_module_version": "1.2.0",
            "_model_name": "LayoutModel",
            "_view_count": null,
            "_view_module": "@jupyter-widgets/base",
            "_view_module_version": "1.2.0",
            "_view_name": "LayoutView",
            "align_content": null,
            "align_items": null,
            "align_self": null,
            "border": null,
            "bottom": null,
            "display": null,
            "flex": null,
            "flex_flow": null,
            "grid_area": null,
            "grid_auto_columns": null,
            "grid_auto_flow": null,
            "grid_auto_rows": null,
            "grid_column": null,
            "grid_gap": null,
            "grid_row": null,
            "grid_template_areas": null,
            "grid_template_columns": null,
            "grid_template_rows": null,
            "height": null,
            "justify_content": null,
            "justify_items": null,
            "left": null,
            "margin": null,
            "max_height": null,
            "max_width": null,
            "min_height": null,
            "min_width": null,
            "object_fit": null,
            "object_position": null,
            "order": null,
            "overflow": null,
            "overflow_x": null,
            "overflow_y": null,
            "padding": null,
            "right": null,
            "top": null,
            "visibility": null,
            "width": null
          }
        },
        "fe19f90692b346ca9512453d42e8a44e": {
          "model_module": "@jupyter-widgets/controls",
          "model_module_version": "1.5.0",
          "model_name": "HTMLModel",
          "state": {
            "_dom_classes": [],
            "_model_module": "@jupyter-widgets/controls",
            "_model_module_version": "1.5.0",
            "_model_name": "HTMLModel",
            "_view_count": null,
            "_view_module": "@jupyter-widgets/controls",
            "_view_module_version": "1.5.0",
            "_view_name": "HTMLView",
            "description": "",
            "description_tooltip": null,
            "layout": "IPY_MODEL_f7e88a9ffad34087bdb4bd7f8eb04006",
            "placeholder": "​",
            "style": "IPY_MODEL_89d47e294c1f43e8b52035d8be41d3b5",
            "value": " 1/1 [00:00&lt;00:00, 25.62it/s]"
          }
        }
      }
    }
  },
  "nbformat": 4,
  "nbformat_minor": 0
}
